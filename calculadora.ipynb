{
 "cells": [
  {
   "cell_type": "code",
   "execution_count": 3,
   "id": "69eaff4f-548c-43df-acbd-004536062828",
   "metadata": {},
   "outputs": [
    {
     "name": "stdout",
     "output_type": "stream",
     "text": [
      "\n",
      "**************calculadora pyhton**************\n"
     ]
    }
   ],
   "source": [
    "print('\\n**************calculadora pyhton**************')"
   ]
  },
  {
   "cell_type": "code",
   "execution_count": 1,
   "id": "fd40efda-0ef9-4afb-9a7f-35713388f773",
   "metadata": {},
   "outputs": [],
   "source": [
    "def add(x,y):\n",
    "    return x+y\n",
    "def subtract(x,y):\n",
    "    return x-y\n",
    "def multiply(x,y):\n",
    "    return x*y\n",
    "def divide(x,y):\n",
    "    return x/y\n",
    "def potencia(x,y):\n",
    "    return x **y"
   ]
  },
  {
   "cell_type": "code",
   "execution_count": 2,
   "id": "8152b0ff-8e00-4d57-b807-364950815769",
   "metadata": {},
   "outputs": [
    {
     "name": "stdout",
     "output_type": "stream",
     "text": [
      "\n",
      " selecione o número da operação desejada: \n",
      "\n",
      "1-soma\n",
      "2- subtração\n",
      "3- multiplicação\n",
      "4- divisão\n",
      "5-potencia\n"
     ]
    },
    {
     "name": "stdin",
     "output_type": "stream",
     "text": [
      "\n",
      " digite sua opção(1/2/3/4/5): 5\n",
      "\n",
      " digite o primeiro número: 4\n",
      "\n",
      " digite o segundo número: 3\n"
     ]
    }
   ],
   "source": [
    "print('\\n selecione o número da operação desejada: \\n')\n",
    "print('1-soma')\n",
    "print('2- subtração')\n",
    "print('3- multiplicação')\n",
    "print('4- divisão')\n",
    "print('5-potencia')\n",
    "\n",
    "escolha = input(\"\\n digite sua opção(1/2/3/4/5):\")\n",
    "num1 = int(input('\\n digite o primeiro número:'))\n",
    "num2 = int(input('\\n digite o segundo número:'))"
   ]
  },
  {
   "cell_type": "code",
   "execution_count": 3,
   "id": "c6b7c8a2-8d41-425a-bc20-a50677e24815",
   "metadata": {},
   "outputs": [
    {
     "name": "stdout",
     "output_type": "stream",
     "text": [
      "\n",
      "\n",
      "4 ** 3 = 64\n",
      "\n",
      "\n"
     ]
    }
   ],
   "source": [
    "if escolha == '1':\n",
    "    print('\\n')\n",
    "    print(num1, '+', num2, '=', add(num1,num2))\n",
    "    print('\\n')\n",
    "elif escolha == '2':\n",
    "    print('\\n')\n",
    "    print(num1, '-', num2, '=', subtract(num1,num2))\n",
    "    print('\\n')\n",
    "elif escolha == '3':\n",
    "    print('\\n')\n",
    "    print(num1, '*', num2, '=', multiply(num1,num2))\n",
    "    print('\\n')\n",
    "elif escolha == '4':\n",
    "    print('\\n')\n",
    "    print(num1, '/', num2, '=', divide(num1,num2))\n",
    "    print('\\n')\n",
    "if escolha == '5':\n",
    "    print('\\n')\n",
    "    print(num1, '**', num2, '=', potencia(num1,num2))\n",
    "    print('\\n')\n",
    "else:\n",
    "    print('\\n invalid option')"
   ]
  },
  {
   "cell_type": "code",
   "execution_count": null,
   "id": "400f22bc-b831-4c9f-8924-0f375c438aac",
   "metadata": {},
   "outputs": [],
   "source": []
  }
 ],
 "metadata": {
  "kernelspec": {
   "display_name": "anaconda-2022.05-py39",
   "language": "python",
   "name": "conda-env-anaconda-2022.05-py39-py"
  },
  "language_info": {
   "codemirror_mode": {
    "name": "ipython",
    "version": 3
   },
   "file_extension": ".py",
   "mimetype": "text/x-python",
   "name": "python",
   "nbconvert_exporter": "python",
   "pygments_lexer": "ipython3",
   "version": "3.9.12"
  }
 },
 "nbformat": 4,
 "nbformat_minor": 5
}
